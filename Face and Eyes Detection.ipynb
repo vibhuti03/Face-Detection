{
 "cells": [
  {
   "cell_type": "markdown",
   "metadata": {},
   "source": [
    "Importing the libraries"
   ]
  },
  {
   "cell_type": "code",
   "execution_count": 1,
   "metadata": {},
   "outputs": [],
   "source": [
    "import cv2"
   ]
  },
  {
   "cell_type": "markdown",
   "metadata": {},
   "source": [
    "Loading the cascade files"
   ]
  },
  {
   "cell_type": "code",
   "execution_count": 2,
   "metadata": {},
   "outputs": [],
   "source": [
    "face = cv2.CascadeClassifier('C:\\\\Users\\\\lenovo\\\\Desktop\\\\SOAI\\\\Deep Learning and Computer Vision\\\\Module_1_Face_Recognition\\\\haarcascade_frontalface_default.xml')"
   ]
  },
  {
   "cell_type": "code",
   "execution_count": 3,
   "metadata": {},
   "outputs": [],
   "source": [
    "eye = cv2.CascadeClassifier('C:\\\\Users\\\\lenovo\\\\Desktop\\\\SOAI\\\\Deep Learning and Computer Vision\\\\Module_1_Face_Recognition\\\\haarcascade_eye.xml')"
   ]
  },
  {
   "cell_type": "markdown",
   "metadata": {},
   "source": [
    "**Defining a function that will do the detection.**\n",
    "\n",
    "<li>Getting co-ordinates of the rectangle that will detect the face and then the eyes</li>\n",
    "<li>Detect each of the faces that appear in the video by iteration</li>"
   ]
  },
  {
   "cell_type": "code",
   "execution_count": null,
   "metadata": {},
   "outputs": [],
   "source": [
    "def detect(grey, frame):  \n",
    "# grey - to get the black and white image as input in fuction\n",
    "# frame - the original image because the function needs to output the original coloured image\n",
    "    \n",
    "    #Detecting faces\n",
    "    faces = face.detectMultiScale(grey,1.3,5) \n",
    "                        # it will give us a tuple with the coordinates of the rectangle of the detected face as x,y,w,h\n",
    "                        # where x,y are coordinates of the upper left corner\n",
    "                        # w is the width of the rectangle and h is the height \n",
    "                # scale factor=1.3 means that the image size will be reduced 1.3 times\n",
    "                # minNeighbors=5 means that for a zone of pixels to be accepted, atleast 5 neighbour zones ,must also be accepted\n",
    "    \n",
    "    #Drawing the rectangles for faces \n",
    "    #and also getting the region of interest in the detected face region for detecting eyes \n",
    "    for (x,y,w,h) in faces:\n",
    "        cv2.rectangle(img=frame,pt1=(x,y), pt2=(x+w,y+h), color=(255,0,0), thickness=2) #printing the face rectangle as well\n",
    "        \n",
    "        r_grey = grey[y:y+h,x:x+w] #region of interest for eye in the BW image in which the cascade is going to be applied to detect the eyes\n",
    "        l_color = frame[y:y+h,x:x+w] #region of interest for eye in the colored image\n",
    "        \n",
    "        eyes = eye.detectMultiScale(r_grey,1.1,3)\n",
    "        \n",
    "        #Drawing the rectangles for eyes\n",
    "        for (ex,ey,ew,eh) in eyes:\n",
    "            cv2.rectangle(img=l_color,pt1=(ex,ey),pt2=(ex+ew,ey+eh),color=(0,0,225),thickness=1) #printing the eyes rectangle as well\n",
    "    \n",
    "    return frame"
   ]
  },
  {
   "cell_type": "markdown",
   "metadata": {},
   "source": [
    "**Capturing video via webcam**"
   ]
  },
  {
   "cell_type": "code",
   "execution_count": null,
   "metadata": {},
   "outputs": [],
   "source": [
    "vid = cv2.VideoCapture(0) # 0 if webcam of the device, 1 if webcam is externally connected"
   ]
  },
  {
   "cell_type": "markdown",
   "metadata": {},
   "source": [
    "**Putting everything together**"
   ]
  },
  {
   "cell_type": "code",
   "execution_count": null,
   "metadata": {},
   "outputs": [],
   "source": [
    "while True :\n",
    "    _, frame = vid.read() \n",
    "        # _ means the 1st argument returned by the function isn't considered\n",
    "        # frame gets the coloured last occured image in the video captured by webcam\n",
    "    grey=cv2.cvtColor(frame,cv2.COLOR_BGR2GRAY)\n",
    "    cv2.imshow(\"Black and White\",grey)\n",
    "    cv2.imshow(\"Original\",frame)\n",
    "    canvas = detect(grey,frame)\n",
    "    cv2.imshow(\"Video\",canvas) #display the processed images\n",
    "    if cv2.waitKey(1) == 13:\n",
    "        break\n",
    "    \n",
    "vid.release() #turning the webcam off\n",
    "cv2.destroyAllWindows() #detroying the window inside which all these images were being displayed"
   ]
  },
  {
   "cell_type": "code",
   "execution_count": null,
   "metadata": {},
   "outputs": [],
   "source": []
  },
  {
   "cell_type": "code",
   "execution_count": null,
   "metadata": {},
   "outputs": [],
   "source": []
  },
  {
   "cell_type": "code",
   "execution_count": null,
   "metadata": {},
   "outputs": [],
   "source": []
  },
  {
   "cell_type": "code",
   "execution_count": null,
   "metadata": {},
   "outputs": [],
   "source": []
  },
  {
   "cell_type": "code",
   "execution_count": null,
   "metadata": {},
   "outputs": [],
   "source": []
  },
  {
   "cell_type": "code",
   "execution_count": null,
   "metadata": {},
   "outputs": [],
   "source": []
  },
  {
   "cell_type": "code",
   "execution_count": null,
   "metadata": {},
   "outputs": [],
   "source": []
  },
  {
   "cell_type": "code",
   "execution_count": null,
   "metadata": {},
   "outputs": [],
   "source": []
  },
  {
   "cell_type": "code",
   "execution_count": null,
   "metadata": {},
   "outputs": [],
   "source": []
  },
  {
   "cell_type": "code",
   "execution_count": null,
   "metadata": {},
   "outputs": [],
   "source": []
  },
  {
   "cell_type": "code",
   "execution_count": null,
   "metadata": {},
   "outputs": [],
   "source": []
  },
  {
   "cell_type": "code",
   "execution_count": null,
   "metadata": {},
   "outputs": [],
   "source": []
  },
  {
   "cell_type": "code",
   "execution_count": null,
   "metadata": {},
   "outputs": [],
   "source": []
  },
  {
   "cell_type": "code",
   "execution_count": null,
   "metadata": {},
   "outputs": [],
   "source": []
  },
  {
   "cell_type": "code",
   "execution_count": null,
   "metadata": {},
   "outputs": [],
   "source": []
  },
  {
   "cell_type": "code",
   "execution_count": null,
   "metadata": {},
   "outputs": [],
   "source": []
  },
  {
   "cell_type": "code",
   "execution_count": null,
   "metadata": {},
   "outputs": [],
   "source": []
  }
 ],
 "metadata": {
  "kernelspec": {
   "display_name": "Python 3",
   "language": "python",
   "name": "python3"
  },
  "language_info": {
   "codemirror_mode": {
    "name": "ipython",
    "version": 3
   },
   "file_extension": ".py",
   "mimetype": "text/x-python",
   "name": "python",
   "nbconvert_exporter": "python",
   "pygments_lexer": "ipython3",
   "version": "3.7.3"
  }
 },
 "nbformat": 4,
 "nbformat_minor": 4
}
